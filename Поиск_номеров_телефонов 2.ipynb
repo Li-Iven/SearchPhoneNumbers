{
  "nbformat": 4,
  "nbformat_minor": 0,
  "metadata": {
    "colab": {
      "provenance": []
    },
    "kernelspec": {
      "name": "python3",
      "display_name": "Python 3"
    },
    "language_info": {
      "name": "python"
    }
  },
  "cells": [
    {
      "cell_type": "markdown",
      "source": [
        "##Ивенкова Л.В."
      ],
      "metadata": {
        "id": "9zTL4HdX0K7p"
      }
    },
    {
      "cell_type": "code",
      "source": [
        "import re\n",
        "import urllib.request\n",
        "import requests\n",
        "import glob\n",
        "\n",
        "url = \"https://hands.ru/company/about/\"\n",
        "\n",
        "slashs = [m.start() for m in re.finditer(r'/', url)]"
      ],
      "metadata": {
        "id": "nxD9MfvsLpZ-"
      },
      "execution_count": 1,
      "outputs": []
    },
    {
      "cell_type": "code",
      "source": [
        "print(slashs)"
      ],
      "metadata": {
        "colab": {
          "base_uri": "https://localhost:8080/"
        },
        "id": "cfUHojMPkDFE",
        "outputId": "bc6ff253-f26f-4bfe-fd28-27842806966e"
      },
      "execution_count": 2,
      "outputs": [
        {
          "output_type": "stream",
          "name": "stdout",
          "text": [
            "[6, 7, 16, 24, 30]\n"
          ]
        }
      ]
    },
    {
      "cell_type": "code",
      "source": [
        "if (len(slashs) < 3):\n",
        "    folder_name = url[slashs[1]+1:]\n",
        "else:\n",
        "    folder_name = url[slashs[1]+1:slashs[2]]\n",
        "print(folder_name)"
      ],
      "metadata": {
        "colab": {
          "base_uri": "https://localhost:8080/"
        },
        "id": "xP0aF8aGlkJ0",
        "outputId": "ecb4b706-ffac-41c7-fadd-4f28dffe6856"
      },
      "execution_count": 3,
      "outputs": [
        {
          "output_type": "stream",
          "name": "stdout",
          "text": [
            "hands.ru\n"
          ]
        }
      ]
    },
    {
      "cell_type": "markdown",
      "source": [
        "Далее можно загружать или только файлы с расширениями js, html, txt - где вероятнее всего обнаружится номер. Или же можно загружать все файлы, убрав флаги, тогда будут просматриваться все файлы, но и время их загрузки увеличится."
      ],
      "metadata": {
        "id": "pIyI2AlUCQpf"
      }
    },
    {
      "cell_type": "code",
      "source": [
        "!wget -p -A js,html,txt -c --convert-links https://hands.ru/company/about/"
      ],
      "metadata": {
        "colab": {
          "base_uri": "https://localhost:8080/"
        },
        "id": "SChOw8xkffYB",
        "outputId": "189adeb1-ea70-45d2-89e6-842942c3f78a"
      },
      "execution_count": 4,
      "outputs": [
        {
          "output_type": "stream",
          "name": "stdout",
          "text": [
            "--2023-10-05 13:30:47--  https://hands.ru/company/about/\n",
            "Resolving hands.ru (hands.ru)... 185.40.31.76\n",
            "Connecting to hands.ru (hands.ru)|185.40.31.76|:443... connected.\n",
            "HTTP request sent, awaiting response... 200 OK\n",
            "Length: 185700 (181K) [text/html]\n",
            "Saving to: ‘hands.ru/company/about/index.html’\n",
            "\n",
            "hands.ru/company/ab 100%[===================>] 181.35K   711KB/s    in 0.3s    \n",
            "\n",
            "2023-10-05 13:30:48 (711 KB/s) - ‘hands.ru/company/about/index.html’ saved [185700/185700]\n",
            "\n",
            "Loading robots.txt; please ignore errors.\n",
            "--2023-10-05 13:30:48--  https://hands.ru/robots.txt\n",
            "Reusing existing connection to hands.ru:443.\n",
            "HTTP request sent, awaiting response... 200 OK\n",
            "Length: 2928 (2.9K) [text/plain]\n",
            "Saving to: ‘hands.ru/robots.txt’\n",
            "\n",
            "hands.ru/robots.txt 100%[===================>]   2.86K  --.-KB/s    in 0s      \n",
            "\n",
            "2023-10-05 13:30:48 (331 MB/s) - ‘hands.ru/robots.txt’ saved [2928/2928]\n",
            "\n",
            "--2023-10-05 13:30:48--  https://hands.ru/static/js/client.c359f5e6b47d786cbd18.js\n",
            "Reusing existing connection to hands.ru:443.\n",
            "HTTP request sent, awaiting response... 200 OK\n",
            "Length: 1192458 (1.1M) [application/javascript]\n",
            "Saving to: ‘hands.ru/static/js/client.c359f5e6b47d786cbd18.js’\n",
            "\n",
            "hands.ru/static/js/ 100%[===================>]   1.14M  4.39MB/s    in 0.3s    \n",
            "\n",
            "2023-10-05 13:30:48 (4.39 MB/s) - ‘hands.ru/static/js/client.c359f5e6b47d786cbd18.js’ saved [1192458/1192458]\n",
            "\n",
            "--2023-10-05 13:30:48--  https://hands.ru/static/js/meta.55448fe130ee0733728f.chunk.js\n",
            "Reusing existing connection to hands.ru:443.\n",
            "HTTP request sent, awaiting response... 200 OK\n",
            "Length: 33795 (33K) [application/javascript]\n",
            "Saving to: ‘hands.ru/static/js/meta.55448fe130ee0733728f.chunk.js’\n",
            "\n",
            "hands.ru/static/js/ 100%[===================>]  33.00K  --.-KB/s    in 0s      \n",
            "\n",
            "2023-10-05 13:30:49 (268 MB/s) - ‘hands.ru/static/js/meta.55448fe130ee0733728f.chunk.js’ saved [33795/33795]\n",
            "\n",
            "--2023-10-05 13:30:49--  https://hands.ru/static/js/856.ed94b1da5d615fa24a59.chunk.js\n",
            "Reusing existing connection to hands.ru:443.\n",
            "HTTP request sent, awaiting response... 200 OK\n",
            "Length: 96542 (94K) [application/javascript]\n",
            "Saving to: ‘hands.ru/static/js/856.ed94b1da5d615fa24a59.chunk.js’\n",
            "\n",
            "hands.ru/static/js/ 100%[===================>]  94.28K  --.-KB/s    in 0.001s  \n",
            "\n",
            "2023-10-05 13:30:49 (143 MB/s) - ‘hands.ru/static/js/856.ed94b1da5d615fa24a59.chunk.js’ saved [96542/96542]\n",
            "\n",
            "--2023-10-05 13:30:49--  https://hands.ru/static/js/625.08688134ae2f50c88e27.chunk.js\n",
            "Reusing existing connection to hands.ru:443.\n",
            "HTTP request sent, awaiting response... 200 OK\n",
            "Length: 6848 (6.7K) [application/javascript]\n",
            "Saving to: ‘hands.ru/static/js/625.08688134ae2f50c88e27.chunk.js’\n",
            "\n",
            "hands.ru/static/js/ 100%[===================>]   6.69K  --.-KB/s    in 0s      \n",
            "\n",
            "2023-10-05 13:30:49 (1.36 GB/s) - ‘hands.ru/static/js/625.08688134ae2f50c88e27.chunk.js’ saved [6848/6848]\n",
            "\n",
            "--2023-10-05 13:30:49--  https://hands.ru/static/js/798.116c552fca8116df3c75.chunk.js\n",
            "Reusing existing connection to hands.ru:443.\n",
            "HTTP request sent, awaiting response... 200 OK\n",
            "Length: 34428 (34K) [application/javascript]\n",
            "Saving to: ‘hands.ru/static/js/798.116c552fca8116df3c75.chunk.js’\n",
            "\n",
            "hands.ru/static/js/ 100%[===================>]  33.62K  --.-KB/s    in 0s      \n",
            "\n",
            "2023-10-05 13:30:49 (130 MB/s) - ‘hands.ru/static/js/798.116c552fca8116df3c75.chunk.js’ saved [34428/34428]\n",
            "\n",
            "--2023-10-05 13:30:49--  https://hands.ru/static/js/862.49e8007c4af2fef42377.chunk.js\n",
            "Reusing existing connection to hands.ru:443.\n",
            "HTTP request sent, awaiting response... 200 OK\n",
            "Length: 14882 (15K) [application/javascript]\n",
            "Saving to: ‘hands.ru/static/js/862.49e8007c4af2fef42377.chunk.js’\n",
            "\n",
            "hands.ru/static/js/ 100%[===================>]  14.53K  --.-KB/s    in 0s      \n",
            "\n",
            "2023-10-05 13:30:49 (240 MB/s) - ‘hands.ru/static/js/862.49e8007c4af2fef42377.chunk.js’ saved [14882/14882]\n",
            "\n",
            "--2023-10-05 13:30:49--  https://hands.ru/static/js/932.78448e780dacd5fb2537.chunk.js\n",
            "Reusing existing connection to hands.ru:443.\n",
            "HTTP request sent, awaiting response... 200 OK\n",
            "Length: 61221 (60K) [application/javascript]\n",
            "Saving to: ‘hands.ru/static/js/932.78448e780dacd5fb2537.chunk.js’\n",
            "\n",
            "hands.ru/static/js/ 100%[===================>]  59.79K  --.-KB/s    in 0s      \n",
            "\n",
            "2023-10-05 13:30:49 (201 MB/s) - ‘hands.ru/static/js/932.78448e780dacd5fb2537.chunk.js’ saved [61221/61221]\n",
            "\n",
            "--2023-10-05 13:30:49--  https://hands.ru/static/js/325.e4242e623d7c01ff16e3.chunk.js\n",
            "Reusing existing connection to hands.ru:443.\n",
            "HTTP request sent, awaiting response... 200 OK\n",
            "Length: 22847 (22K) [application/javascript]\n",
            "Saving to: ‘hands.ru/static/js/325.e4242e623d7c01ff16e3.chunk.js’\n",
            "\n",
            "hands.ru/static/js/ 100%[===================>]  22.31K  --.-KB/s    in 0s      \n",
            "\n",
            "2023-10-05 13:30:49 (221 MB/s) - ‘hands.ru/static/js/325.e4242e623d7c01ff16e3.chunk.js’ saved [22847/22847]\n",
            "\n",
            "--2023-10-05 13:30:49--  https://hands.ru/static/js/965.2af1cc987822ced9b1e5.chunk.js\n",
            "Reusing existing connection to hands.ru:443.\n",
            "HTTP request sent, awaiting response... 200 OK\n",
            "Length: 17912 (17K) [application/javascript]\n",
            "Saving to: ‘hands.ru/static/js/965.2af1cc987822ced9b1e5.chunk.js’\n",
            "\n",
            "hands.ru/static/js/ 100%[===================>]  17.49K  --.-KB/s    in 0s      \n",
            "\n",
            "2023-10-05 13:30:49 (159 MB/s) - ‘hands.ru/static/js/965.2af1cc987822ced9b1e5.chunk.js’ saved [17912/17912]\n",
            "\n",
            "--2023-10-05 13:30:49--  https://hands.ru/static/js/catalog.35db4cc389bd55f5c645.chunk.js\n",
            "Reusing existing connection to hands.ru:443.\n",
            "HTTP request sent, awaiting response... 200 OK\n",
            "Length: 315821 (308K) [application/javascript]\n",
            "Saving to: ‘hands.ru/static/js/catalog.35db4cc389bd55f5c645.chunk.js’\n",
            "\n",
            "hands.ru/static/js/ 100%[===================>] 308.42K  --.-KB/s    in 0.003s  \n",
            "\n",
            "2023-10-05 13:30:50 (118 MB/s) - ‘hands.ru/static/js/catalog.35db4cc389bd55f5c645.chunk.js’ saved [315821/315821]\n",
            "\n",
            "FINISHED --2023-10-05 13:30:50--\n",
            "Total wall clock time: 3.0s\n",
            "Downloaded: 12 files, 1.9M in 0.5s (3.65 MB/s)\n",
            "Converting links in hands.ru/company/about/index.html... 78.\n",
            "21-57\n",
            "Converted links in 1 files in 0.001 seconds.\n"
          ]
        }
      ]
    },
    {
      "cell_type": "code",
      "source": [
        "files = glob.glob(folder_name + '/**/*.js', recursive=True)\n",
        "files += glob.glob(folder_name + '/**/*.html', recursive=True)\n",
        "files += glob.glob(folder_name + '/**/*.txt', recursive=True)"
      ],
      "metadata": {
        "id": "1aHZvdcAVhPC"
      },
      "execution_count": 5,
      "outputs": []
    },
    {
      "cell_type": "code",
      "source": [
        "print(files)"
      ],
      "metadata": {
        "colab": {
          "base_uri": "https://localhost:8080/"
        },
        "id": "xpckfY3ied35",
        "outputId": "fbc999d6-7522-419c-a562-5dfa87e670ed"
      },
      "execution_count": null,
      "outputs": [
        {
          "output_type": "stream",
          "name": "stdout",
          "text": [
            "['hands.ru/static/js/meta.55448fe130ee0733728f.chunk.js', 'hands.ru/static/js/325.e4242e623d7c01ff16e3.chunk.js', 'hands.ru/static/js/625.08688134ae2f50c88e27.chunk.js', 'hands.ru/static/js/798.116c552fca8116df3c75.chunk.js', 'hands.ru/static/js/932.78448e780dacd5fb2537.chunk.js', 'hands.ru/static/js/862.49e8007c4af2fef42377.chunk.js', 'hands.ru/static/js/client.c359f5e6b47d786cbd18.js', 'hands.ru/static/js/catalog.35db4cc389bd55f5c645.chunk.js', 'hands.ru/static/js/856.ed94b1da5d615fa24a59.chunk.js', 'hands.ru/static/js/965.2af1cc987822ced9b1e5.chunk.js', 'hands.ru/company/about/index.html', 'hands.ru/robots.txt']\n"
          ]
        }
      ]
    },
    {
      "cell_type": "code",
      "source": [
        "list_numbers = []\n",
        "\n",
        "for file in files:\n",
        "    with open(file, \"r\", errors='ignore') as fl:\n",
        "        text = fl.read()\n",
        "        text = re.sub(r\"<path[^>]*>\", \"\", text)\n",
        "        list_numbers += re.findall(r'[:\"](?:(?:\\+7|8|)[-— ]?\\(?[348]\\d{2}\\)?[-— ]?)?\\d{3}(?:[-— ]?\\d{2}){2}[\"]', text)"
      ],
      "metadata": {
        "id": "P7BTX0juegLA"
      },
      "execution_count": 6,
      "outputs": []
    },
    {
      "cell_type": "code",
      "source": [
        "print(list_numbers)"
      ],
      "metadata": {
        "colab": {
          "base_uri": "https://localhost:8080/"
        },
        "id": "u6cH6MCQmrCN",
        "outputId": "be3eb944-7ccf-41f7-f41b-27a78488ae51"
      },
      "execution_count": null,
      "outputs": [
        {
          "output_type": "stream",
          "name": "stdout",
          "text": [
            "['\"8-495-137-77-67\"']\n"
          ]
        }
      ]
    },
    {
      "cell_type": "code",
      "source": [
        "res_list = []\n",
        "[res_list.append(x) for x in list_numbers if x not in res_list]\n",
        "print(res_list)"
      ],
      "metadata": {
        "colab": {
          "base_uri": "https://localhost:8080/"
        },
        "id": "JteJ_8flrGiA",
        "outputId": "a814d3ad-7770-426e-f788-39bcb8db2bd4"
      },
      "execution_count": null,
      "outputs": [
        {
          "output_type": "stream",
          "name": "stdout",
          "text": [
            "['\"8-495-137-77-67\"']\n"
          ]
        }
      ]
    },
    {
      "cell_type": "code",
      "source": [
        "for i in range(len(res_list)):\n",
        "    no = re.sub(r\"\\W\", \"\", res_list[i])\n",
        "    res_list[i] = no\n",
        "    if(len(res_list[i]) == 7):\n",
        "        tmp = \"8495\" + res_list[i]\n",
        "        res_list[i] = tmp\n",
        "    else:\n",
        "        if (len(res_list[i]) == 10):\n",
        "            tmp = \"8\" + res_list[i]\n",
        "            res_list[i] = tmp"
      ],
      "metadata": {
        "id": "5s-XoUxAgUfQ"
      },
      "execution_count": null,
      "outputs": []
    },
    {
      "cell_type": "code",
      "source": [
        "print(res_list)"
      ],
      "metadata": {
        "colab": {
          "base_uri": "https://localhost:8080/"
        },
        "id": "jOK4oyvNgqkw",
        "outputId": "c9a8cb5e-9bc3-4cb7-dde6-02d9dda6de05"
      },
      "execution_count": null,
      "outputs": [
        {
          "output_type": "stream",
          "name": "stdout",
          "text": [
            "['84951377767']\n"
          ]
        }
      ]
    },
    {
      "cell_type": "code",
      "source": [],
      "metadata": {
        "id": "oc5HWacOzGNP"
      },
      "execution_count": null,
      "outputs": []
    }
  ]
}